{
 "cells": [
  {
   "cell_type": "code",
   "execution_count": 1,
   "id": "59a0ee09-ef4a-4fc4-b348-cb4fa0664f03",
   "metadata": {},
   "outputs": [
    {
     "name": "stdout",
     "output_type": "stream",
     "text": [
      "Before swap\n",
      "a=5 , b=10\n",
      "After Swap\n",
      "a=10, b=5 \n"
     ]
    }
   ],
   "source": [
    "def swap_values(a,b):\n",
    "    print(\"Before swap\")\n",
    "    print(f\"a={a} , b={b}\")\n",
    "    temp= a \n",
    "    a =b\n",
    "    b=temp \n",
    "    print(\"After Swap\")\n",
    "    print(f\"a={a}, b={b} \")\n",
    "\n",
    "#example uses \n",
    "x= 5\n",
    "y = 10 \n",
    "swap_values(x, y)\n",
    "\n",
    "\n"
   ]
  },
  {
   "cell_type": "code",
   "execution_count": 10,
   "id": "3ba9f201-5466-46c1-bc0e-01f19952cb8f",
   "metadata": {},
   "outputs": [
    {
     "name": "stdout",
     "output_type": "stream",
     "text": [
      "The area of the rectangle is 200 square units.\n"
     ]
    }
   ],
   "source": [
    "def calculate_area(length , width):\n",
    "    area=length*width\n",
    "    return area\n",
    "\n",
    "length= 10 \n",
    "width = 20 \n",
    "area=calculate_area(length, width)\n",
    "print(f\"The area of the rectangle is {area} square units.\")\n",
    "    "
   ]
  },
  {
   "cell_type": "code",
   "execution_count": 11,
   "id": "247b3f1f-4818-4aef-adc7-473a495794c5",
   "metadata": {},
   "outputs": [
    {
     "name": "stdout",
     "output_type": "stream",
     "text": [
      "The area of the rectangle is 200square feet.\n"
     ]
    }
   ],
   "source": [
    "def rec_area(length , width):\n",
    "    area=lenght*width\n",
    "    return area\n",
    "\n",
    "length=10\n",
    "width=20\n",
    "area=rec_area(length, width)\n",
    "print(f\"The area of the rectangle is {area}square feet.\")"
   ]
  },
  {
   "cell_type": "code",
   "execution_count": 12,
   "id": "9fdaffbe-19b1-44d8-89c2-5f8d2f334308",
   "metadata": {},
   "outputs": [
    {
     "name": "stdout",
     "output_type": "stream",
     "text": [
      "The Celcius value is 37.00C\n"
     ]
    }
   ],
   "source": [
    "def far(farhen):\n",
    "    cel=5/9 * (farhen-32)\n",
    "    return cel\n",
    "\n",
    "farhen=98.6\n",
    "cel = far(farhen)\n",
    "print (f\"The Celcius value is {cel:.2f}C\")"
   ]
  },
  {
   "cell_type": "code",
   "execution_count": 15,
   "id": "c09d6deb-3ea4-45b9-ac96-63ad58171746",
   "metadata": {},
   "outputs": [
    {
     "name": "stdout",
     "output_type": "stream",
     "text": [
      "The Voliume is 4188.79 quibic meter\n"
     ]
    }
   ],
   "source": [
    "import math \n",
    "\n",
    "def vol(r):\n",
    "    voliume = 4/3 *math.pi * r**3\n",
    "    return voliume\n",
    "\n",
    "r= 10 \n",
    "voliume=vol(r)\n",
    "print (f\"The Voliume is {voliume:.2f} quibic meter\")"
   ]
  },
  {
   "cell_type": "code",
   "execution_count": 18,
   "id": "ebd80391-8863-498c-987f-bc0fa5eb4910",
   "metadata": {},
   "outputs": [
    {
     "name": "stdout",
     "output_type": "stream",
     "text": [
      "The avg of three number is 20.00\n"
     ]
    }
   ],
   "source": [
    "def avg(a, b , c ):\n",
    "    avarage=(a+b+c)/3\n",
    "    return avarage \n",
    "\n",
    "a=10\n",
    "b=20\n",
    "c=30\n",
    "avarage =avg(a,b,c)\n",
    "print(f\"The avg of three number is {avarage:.2f}\")"
   ]
  },
  {
   "cell_type": "code",
   "execution_count": 19,
   "id": "84d55087-e0fa-4ffe-9ef7-814c872c980c",
   "metadata": {},
   "outputs": [
    {
     "name": "stdout",
     "output_type": "stream",
     "text": [
      "the 7 is odd\n"
     ]
    }
   ],
   "source": [
    "def odd_even(num):\n",
    "    if num%2==0:\n",
    "        return \"even\"\n",
    "    else:\n",
    "        return \"odd\"\n",
    "num=7\n",
    "result =odd_even(num)\n",
    "print(f\"the {num} is {result}\")"
   ]
  },
  {
   "cell_type": "code",
   "execution_count": 21,
   "id": "8391529c-9c82-4825-8a16-90a160aac838",
   "metadata": {},
   "outputs": [
    {
     "name": "stdout",
     "output_type": "stream",
     "text": [
      "Amond 10,7,15 the maximum value is 15.00\n"
     ]
    }
   ],
   "source": [
    "def max(num1, num2, num3):\n",
    "    if num1>num2 and num1>num3:\n",
    "        return num1\n",
    "    elif num2>num1 and num2>num3:\n",
    "        return num2\n",
    "    else:\n",
    "        return num3\n",
    "\n",
    "num1= 10 \n",
    "num2=7\n",
    "num3=15\n",
    "Max = max(num1, num2, num3)\n",
    "print(f\"Amond {num1},{num2},{num3} the maximum value is {Max:.2f}\")"
   ]
  },
  {
   "cell_type": "code",
   "execution_count": 23,
   "id": "5de607ea-0d59-44fb-adb1-41ed7528dd26",
   "metadata": {},
   "outputs": [
    {
     "name": "stdout",
     "output_type": "stream",
     "text": [
      "The 2025 is Leap Year\n"
     ]
    }
   ],
   "source": [
    "def leap_year(year):\n",
    "    if (year%400==0 and year %4==0 ) or year %100!=0:\n",
    "        return \"Leap Year\"\n",
    "    else:\n",
    "        return \"Not Leap year\"\n",
    "\n",
    "year = 2025\n",
    "Leap= leap_year(year)\n",
    "print(f\"The {year} is {Leap}\")"
   ]
  },
  {
   "cell_type": "code",
   "execution_count": 26,
   "id": "ef98ba2b-625e-4113-84be-0dfbfe3498c2",
   "metadata": {},
   "outputs": [
    {
     "name": "stdout",
     "output_type": "stream",
     "text": [
      "The number is Zreo\n"
     ]
    }
   ],
   "source": [
    "def pos_neg_zer(num):\n",
    "    if num>0:\n",
    "        return \"positive\"\n",
    "    elif num<0:\n",
    "        return \"negetive\"\n",
    "    else:\n",
    "        return \"Zreo\"\n",
    "\n",
    "num= 0\n",
    "Which = pos_neg_zer(num)\n",
    "print (f\"The number is {Which}\")"
   ]
  },
  {
   "cell_type": "code",
   "execution_count": 27,
   "id": "e51b6b10-d7bd-4f40-9328-78645d565ccc",
   "metadata": {},
   "outputs": [
    {
     "name": "stdout",
     "output_type": "stream",
     "text": [
      "The 65% for this his grade is C\n"
     ]
    }
   ],
   "source": [
    "def grade(per):\n",
    "    if per>=90:\n",
    "        return \"A+\"\n",
    "    elif per>=80:\n",
    "        return \"A\"\n",
    "    elif per>=70:\n",
    "        return \"B\"\n",
    "    elif per>=60:\n",
    "        return \"C\"\n",
    "    elif per>=50:\n",
    "        return \"D\"\n",
    "    else:\n",
    "        return \"F\"\n",
    "per=65\n",
    "Grade= grade(per)\n",
    "print(f\"The {per}% for this his grade is {Grade}\")"
   ]
  },
  {
   "cell_type": "code",
   "execution_count": null,
   "id": "7ef888d4-22b4-4d80-874c-21983a59a85d",
   "metadata": {},
   "outputs": [],
   "source": []
  },
  {
   "cell_type": "code",
   "execution_count": null,
   "id": "340625bb-f72d-4e9d-9137-08457a3435c2",
   "metadata": {},
   "outputs": [],
   "source": []
  },
  {
   "cell_type": "code",
   "execution_count": null,
   "id": "39f79b69-7588-4d4a-9901-51b3e5ae6296",
   "metadata": {},
   "outputs": [],
   "source": []
  },
  {
   "cell_type": "code",
   "execution_count": null,
   "id": "b1f03102-cd8c-4bbf-b037-6dbb6458fd7e",
   "metadata": {},
   "outputs": [],
   "source": []
  }
 ],
 "metadata": {
  "kernelspec": {
   "display_name": "Python 3 (ipykernel)",
   "language": "python",
   "name": "python3"
  },
  "language_info": {
   "codemirror_mode": {
    "name": "ipython",
    "version": 3
   },
   "file_extension": ".py",
   "mimetype": "text/x-python",
   "name": "python",
   "nbconvert_exporter": "python",
   "pygments_lexer": "ipython3",
   "version": "3.11.7"
  }
 },
 "nbformat": 4,
 "nbformat_minor": 5
}
