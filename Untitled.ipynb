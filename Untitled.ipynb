{
 "cells": [
  {
   "cell_type": "markdown",
   "id": "89dbd9d1-3296-49b2-b680-03e5264ec09c",
   "metadata": {},
   "source": [
    "# Basic Problem "
   ]
  },
  {
   "cell_type": "markdown",
   "id": "8d249497-e9df-49c2-b696-0fe95a36619f",
   "metadata": {},
   "source": [
    "### Varibale swwap problem"
   ]
  },
  {
   "cell_type": "markdown",
   "id": "5061a649-8494-4eb2-a0ad-b018be74e266",
   "metadata": {},
   "source": [
    "1 ) Write a Python program to swap the values of two variables without using a temporary variable."
   ]
  },
  {
   "cell_type": "code",
   "execution_count": 1,
   "id": "37f42d3d-0cb4-4b9e-85de-1f939396f9a6",
   "metadata": {},
   "outputs": [
    {
     "name": "stdout",
     "output_type": "stream",
     "text": [
      "After swapping:\n",
      "a = 10\n",
      "b = 5\n"
     ]
    }
   ],
   "source": [
    "# Initial values\n",
    "a = 5\n",
    "b = 10\n",
    "\n",
    "# Swapping the values\n",
    "a, b = b, a\n",
    "\n",
    "# Output the results\n",
    "print(\"After swapping:\")\n",
    "print(\"a =\", a)\n",
    "print(\"b =\", b)"
   ]
  },
  {
   "cell_type": "markdown",
   "id": "1217cb46-c3fd-47db-8e37-1d836a6b1bd9",
   "metadata": {},
   "source": [
    "### Even Or odd "
   ]
  },
  {
   "cell_type": "markdown",
   "id": "618f30e6-c5f3-4c78-aab9-a0e2ac855745",
   "metadata": {},
   "source": [
    "2 ) Write a Python program that takes an integer as input and prints whether it is even or odd."
   ]
  },
  {
   "cell_type": "code",
   "execution_count": 3,
   "id": "61d334f5-611f-4662-85a6-21ecfadab1d3",
   "metadata": {},
   "outputs": [
    {
     "name": "stdin",
     "output_type": "stream",
     "text": [
      "Enter an integer:  10\n"
     ]
    },
    {
     "name": "stdout",
     "output_type": "stream",
     "text": [
      "10 is even.\n"
     ]
    }
   ],
   "source": [
    "# Taking input from the user\n",
    "number = int(input(\"Enter an integer: \"))\n",
    "\n",
    "# Checking if the number is even or odd\n",
    "if number % 2 == 0:\n",
    "    print(f\"{number} is even.\")\n",
    "else:\n",
    "    print(f\"{number} is odd.\")"
   ]
  },
  {
   "cell_type": "markdown",
   "id": "58a44e7d-22dd-4e3c-a4c1-073102aa89a0",
   "metadata": {},
   "source": [
    "### String Reverse "
   ]
  },
  {
   "cell_type": "markdown",
   "id": "3b13e43f-e5e6-47e4-b0e8-ad7c02eebf2a",
   "metadata": {},
   "source": [
    "3 ) Write a Python function to reverse a given string and return the reversed string."
   ]
  },
  {
   "cell_type": "code",
   "execution_count": 4,
   "id": "5d0c465a-d39b-4b46-9d95-3b187fba3762",
   "metadata": {},
   "outputs": [
    {
     "name": "stdout",
     "output_type": "stream",
     "text": [
      "Reversed string: !dlroW ,olleH\n"
     ]
    }
   ],
   "source": [
    "def reverse_string(s):\n",
    "    return s[::-1]\n",
    "\n",
    "# Example usage\n",
    "input_string = \"Hello, World!\"\n",
    "reversed_string = reverse_string(input_string)\n",
    "print(\"Reversed string:\", reversed_string)"
   ]
  },
  {
   "cell_type": "markdown",
   "id": "3dbeb5cc-159a-4282-9ae9-34e2aaf651ee",
   "metadata": {},
   "source": [
    "### Type Converersion "
   ]
  },
  {
   "cell_type": "markdown",
   "id": "22b23124-674d-442f-86a4-ddebf1aafc61",
   "metadata": {},
   "source": [
    "4 ) Given a list of integers, write a Python program to convert each element of the list to a string."
   ]
  },
  {
   "cell_type": "code",
   "execution_count": 5,
   "id": "4a001704-05d1-42f0-8807-f2998fc99740",
   "metadata": {},
   "outputs": [
    {
     "name": "stdout",
     "output_type": "stream",
     "text": [
      "List of strings: ['1', '2', '3', '4', '5']\n"
     ]
    }
   ],
   "source": [
    "# List of integers\n",
    "int_list = [1, 2, 3, 4, 5]\n",
    "\n",
    "# Converting each element to a string\n",
    "str_list = [str(i) for i in int_list]\n",
    "\n",
    "# Output the results\n",
    "print(\"List of strings:\", str_list)"
   ]
  },
  {
   "cell_type": "markdown",
   "id": "010b9f05-9c43-4ab0-be6f-82fc7e6eecb4",
   "metadata": {},
   "source": [
    "### Temperature Convertor "
   ]
  },
  {
   "cell_type": "markdown",
   "id": "12a737d9-fca0-4728-b6c5-b796fdee965f",
   "metadata": {},
   "source": [
    "5 )  Write a Python program that converts a temperature in Celsius to Fahrenheit. Take the Celsius temperature as input from the user."
   ]
  },
  {
   "cell_type": "code",
   "execution_count": 6,
   "id": "84acb218-b51a-4764-bbfa-db9c761eb8eb",
   "metadata": {},
   "outputs": [
    {
     "name": "stdin",
     "output_type": "stream",
     "text": [
      "Enter temperature in Celsius:  32\n"
     ]
    },
    {
     "name": "stdout",
     "output_type": "stream",
     "text": [
      "32.0°C is equal to 89.6°F\n"
     ]
    }
   ],
   "source": [
    "# Taking Celsius temperature as input from the user\n",
    "celsius = float(input(\"Enter temperature in Celsius: \"))\n",
    "\n",
    "# Converting Celsius to Fahrenheit\n",
    "fahrenheit = (celsius * 9/5) + 32\n",
    "\n",
    "# Output the result\n",
    "print(f\"{celsius}°C is equal to {fahrenheit}°F\")"
   ]
  },
  {
   "cell_type": "markdown",
   "id": "251b228b-c351-4eb2-b8b1-bf78aaedfd08",
   "metadata": {},
   "source": [
    "### Data Type checker "
   ]
  },
  {
   "cell_type": "markdown",
   "id": "fd7f87d4-f7eb-4615-b966-1a80bc1c4e57",
   "metadata": {},
   "source": [
    "6 ) Write a Python function that takes a variable as input and returns the data type of the variable as a string (e.g., “int”, “float”, “str”, “list”, etc.)."
   ]
  },
  {
   "cell_type": "code",
   "execution_count": 7,
   "id": "c392bb2c-20bb-4b1b-af0a-e4c2ce98941c",
   "metadata": {},
   "outputs": [
    {
     "name": "stdout",
     "output_type": "stream",
     "text": [
      "Data type of var1: int\n",
      "Data type of var2: float\n",
      "Data type of var3: str\n",
      "Data type of var4: list\n"
     ]
    }
   ],
   "source": [
    "def check_data_type(variable):\n",
    "    return type(variable).__name__\n",
    "\n",
    "# Example usage\n",
    "var1 = 42\n",
    "var2 = 3.14\n",
    "var3 = \"Hello\"\n",
    "var4 = [1, 2, 3]\n",
    "\n",
    "print(\"Data type of var1:\", check_data_type(var1))  # int\n",
    "print(\"Data type of var2:\", check_data_type(var2))  # float\n",
    "print(\"Data type of var3:\", check_data_type(var3))  # str\n",
    "print(\"Data type of var4:\", check_data_type(var4))  # list"
   ]
  },
  {
   "cell_type": "markdown",
   "id": "25c8f890-71bd-493d-898c-bdfa3d5f9e70",
   "metadata": {},
   "source": [
    "### String Palindrome"
   ]
  },
  {
   "cell_type": "markdown",
   "id": "5b5490d6-20ac-4a39-9ed3-fbcb8a04d675",
   "metadata": {},
   "source": [
    "7 ) Write a Python function to check if a given string is a palindrome or not."
   ]
  },
  {
   "cell_type": "code",
   "execution_count": 8,
   "id": "1912e4a4-da15-460e-afac-c9ef31797eea",
   "metadata": {},
   "outputs": [
    {
     "name": "stdout",
     "output_type": "stream",
     "text": [
      "\"Madam\" is a palindrome.\n"
     ]
    }
   ],
   "source": [
    "def is_palindrome(s):\n",
    "    # Converting the string to lowercase to make the check case-insensitive\n",
    "    s = s.lower()\n",
    "    # Removing any spaces from the string\n",
    "    s = s.replace(\" \", \"\")\n",
    "    # Checking if the string is equal to its reverse\n",
    "    return s == s[::-1]\n",
    "\n",
    "# Example usage\n",
    "input_string = \"Madam\"\n",
    "if is_palindrome(input_string):\n",
    "    print(f'\"{input_string}\" is a palindrome.')\n",
    "else:\n",
    "    print(f'\"{input_string}\" is not a palindrome.')"
   ]
  },
  {
   "cell_type": "markdown",
   "id": "3e0df1da-239b-4eea-bbfa-ddbe7a70329a",
   "metadata": {},
   "source": [
    "### String Reversal With Slicing "
   ]
  },
  {
   "cell_type": "markdown",
   "id": "3e209ab2-3c52-4b57-be55-802a628bf8a2",
   "metadata": {},
   "source": [
    "8 ) Write a Python function to reverse a given string using slicing."
   ]
  },
  {
   "cell_type": "code",
   "execution_count": 9,
   "id": "165bafd5-f063-43ac-91e5-eef05bd1bbd5",
   "metadata": {},
   "outputs": [
    {
     "name": "stdout",
     "output_type": "stream",
     "text": [
      "Reversed string: IAnepO\n"
     ]
    }
   ],
   "source": [
    "\n",
    "def reverse_string_with_slicing(s):\n",
    "    return s[::-1]\n",
    "\n",
    "# Example usage\n",
    "input_string = \"OpenAI\"\n",
    "reversed_string = reverse_string_with_slicing(input_string)\n",
    "print(\"Reversed string:\", reversed_string)"
   ]
  },
  {
   "cell_type": "markdown",
   "id": "9992ec5e-10f3-45f3-b57c-fe4b4b692764",
   "metadata": {},
   "source": [
    "### String Concatenation "
   ]
  },
  {
   "cell_type": "markdown",
   "id": "f083a3d8-aebe-4cc8-853a-77c2fac73cea",
   "metadata": {},
   "source": [
    "9 ) Write a Python program that takes two strings as input and concatenates them into a single string without using the + operator."
   ]
  },
  {
   "cell_type": "code",
   "execution_count": 10,
   "id": "dd464a46-5e60-4bfb-a29c-d64564045ed2",
   "metadata": {},
   "outputs": [
    {
     "name": "stdin",
     "output_type": "stream",
     "text": [
      "Enter the first string:  Hira\n",
      "Enter the second string:  Jira\n"
     ]
    },
    {
     "name": "stdout",
     "output_type": "stream",
     "text": [
      "Concatenated string: HiraJira\n"
     ]
    }
   ],
   "source": [
    "# Taking two strings as input from the user\n",
    "string1 = input(\"Enter the first string: \")\n",
    "string2 = input(\"Enter the second string: \")\n",
    "\n",
    "# Concatenating the strings using the `join` method\n",
    "concatenated_string = \"\".join([string1, string2])\n",
    "\n",
    "# Output the result\n",
    "print(\"Concatenated string:\", concatenated_string)"
   ]
  },
  {
   "cell_type": "markdown",
   "id": "017cbd6b-4fc4-419e-a620-a57aa1d45769",
   "metadata": {},
   "source": [
    "### Type Casting Chalanges "
   ]
  },
  {
   "cell_type": "markdown",
   "id": "739a5ecb-b897-4817-940c-ed28e9ef2fed",
   "metadata": {},
   "source": [
    "10 ) Given three variables: a = ‘100’, b = 25, and c = ‘10.5’, write a Python program to perform the following operations and print the results: – Convert a to an integer and add it to b. – Convert c to a float and subtract it from the result of the first operation. – Convert the final result to a string and concatenate it with the string ” is the answer.”"
   ]
  },
  {
   "cell_type": "code",
   "execution_count": 11,
   "id": "71c22f0b-438b-4671-aeb5-7f998c336db5",
   "metadata": {},
   "outputs": [
    {
     "name": "stdout",
     "output_type": "stream",
     "text": [
      "114.5 is the answer.\n"
     ]
    }
   ],
   "source": [
    "# Given variables\n",
    "a = '100'\n",
    "b = 25\n",
    "c = '10.5'\n",
    "\n",
    "# Convert `a` to an integer and add it to `b`\n",
    "a_int = int(a)\n",
    "result = a_int + b\n",
    "\n",
    "# Convert `c` to a float and subtract it from the result\n",
    "c_float = float(c)\n",
    "result -= c_float\n",
    "\n",
    "# Convert the final result to a string and concatenate it with the string \" is the answer.\"\n",
    "result_str = str(result) + \" is the answer.\"\n",
    "\n",
    "# Output the result\n",
    "print(result_str)"
   ]
  },
  {
   "cell_type": "markdown",
   "id": "89c3950e-4d69-411f-b7a3-a3eea0ded7ef",
   "metadata": {},
   "source": [
    "# Python Conditional Statement "
   ]
  },
  {
   "cell_type": "markdown",
   "id": "e201707a-8c24-4e63-8238-8776a8b7ca39",
   "metadata": {},
   "source": [
    "### Positive Negetive or Zero "
   ]
  },
  {
   "cell_type": "markdown",
   "id": "20ab97fb-8974-4db5-9940-d7a696348099",
   "metadata": {},
   "source": [
    "11 ) Positive, Negative, or Zero: Write a Python program that takes a number as input and prints whether it is positive, negative, or zero."
   ]
  },
  {
   "cell_type": "code",
   "execution_count": 20,
   "id": "a6bab38f-ea63-4d61-a77e-55969867e3db",
   "metadata": {},
   "outputs": [
    {
     "name": "stdin",
     "output_type": "stream",
     "text": [
      "Enter a number:  0\n"
     ]
    },
    {
     "name": "stdout",
     "output_type": "stream",
     "text": [
      "The number is zero.\n"
     ]
    }
   ],
   "source": [
    "# Taking a number as input from the user\n",
    "number = float(input(\"Enter a number: \"))\n",
    "\n",
    "# Checking if the number is positive, negative, or zero\n",
    "if number > 0:\n",
    "    print(\"The number is positive.\")\n",
    "elif number < 0:\n",
    "    print(\"The number is negative.\")\n",
    "else:\n",
    "    print(\"The number is zero.\")"
   ]
  },
  {
   "cell_type": "markdown",
   "id": "d32b3d8f-4bcb-4fd7-aeca-d984d137204e",
   "metadata": {},
   "source": [
    "### Largest of Three Numbers"
   ]
  },
  {
   "cell_type": "markdown",
   "id": "9125f1d7-a7f6-4143-9956-62c6eb7fd879",
   "metadata": {},
   "source": [
    "12 ) Largest of Three Numbers: Write a Python program that takes three numbers as input and prints the largest among them."
   ]
  },
  {
   "cell_type": "code",
   "execution_count": 19,
   "id": "93f13cbe-5c3a-41ec-8cbd-d6fbfefb7a20",
   "metadata": {},
   "outputs": [
    {
     "name": "stdin",
     "output_type": "stream",
     "text": [
      "Enter the first number:  5\n",
      "Enter the second number:  6\n",
      "Enter the third number:  7\n"
     ]
    },
    {
     "name": "stdout",
     "output_type": "stream",
     "text": [
      "The largest number is: 7.0\n"
     ]
    }
   ],
   "source": [
    "# Taking three numbers as input from the user\n",
    "num1 = float(input(\"Enter the first number: \"))\n",
    "num2 = float(input(\"Enter the second number: \"))\n",
    "num3 = float(input(\"Enter the third number: \"))\n",
    "\n",
    "# Finding the largest number\n",
    "largest = num1  # Assume num1 is the largest initially\n",
    "\n",
    "if num2 > largest:\n",
    "    largest = num2\n",
    "\n",
    "if num3 > largest:\n",
    "    largest = num3\n",
    "\n",
    "# Output the largest number\n",
    "print(\"The largest number is:\", largest)"
   ]
  },
  {
   "cell_type": "markdown",
   "id": "9b44d728-6407-41c2-8b88-9cfce6565ae7",
   "metadata": {},
   "source": [
    "### Leap Year Checker "
   ]
  },
  {
   "cell_type": "markdown",
   "id": "5c859f53-5f4c-479f-a6d7-d46c998af308",
   "metadata": {},
   "source": [
    "13 ) Leap Year Checker: Write a Python program that takes a year as input and determines if it is a leap year or not."
   ]
  },
  {
   "cell_type": "code",
   "execution_count": 18,
   "id": "87c50a2e-acc5-4eca-90a1-df478c99bf0f",
   "metadata": {},
   "outputs": [
    {
     "name": "stdin",
     "output_type": "stream",
     "text": [
      "Enter a year:  2012\n"
     ]
    },
    {
     "name": "stdout",
     "output_type": "stream",
     "text": [
      "2012 is a leap year.\n"
     ]
    }
   ],
   "source": [
    "# Taking a year as input from the user\n",
    "year = int(input(\"Enter a year: \"))\n",
    "\n",
    "# Determining if the year is a leap year\n",
    "if (year % 4 == 0 and year % 100 != 0) or (year % 400 == 0):\n",
    "    print(f\"{year} is a leap year.\")\n",
    "else:\n",
    "    print(f\"{year} is not a leap year.\")"
   ]
  },
  {
   "cell_type": "markdown",
   "id": "85412b52-34c9-4f7a-b4de-8a256594b88e",
   "metadata": {},
   "source": [
    "### Grade Classificaiton "
   ]
  },
  {
   "cell_type": "markdown",
   "id": "8122c609-84d4-4d6f-a7b9-64172dd10309",
   "metadata": {},
   "source": [
    "14 ) Grades Classification: Write a Python program that takes a student’s percentage as input and prints their corresponding grade according to the following criteria: – 90% or above: A+ – 80-89%: A – 70-79%: B – 60-69%: C – Below 60%: Fail"
   ]
  },
  {
   "cell_type": "code",
   "execution_count": 17,
   "id": "99999d28-d003-457c-bc5a-ce6553935c9f",
   "metadata": {},
   "outputs": [
    {
     "name": "stdin",
     "output_type": "stream",
     "text": [
      "Enter the student's percentage:  30\n"
     ]
    },
    {
     "name": "stdout",
     "output_type": "stream",
     "text": [
      "The student's grade is: Fail\n"
     ]
    }
   ],
   "source": [
    "# Taking the student's percentage as input from the user\n",
    "percentage = float(input(\"Enter the student's percentage: \"))\n",
    "\n",
    "# Determining the grade based on the percentage\n",
    "if percentage >= 90:\n",
    "    grade = \"A+\"\n",
    "elif percentage >= 80:\n",
    "    grade = \"A\"\n",
    "elif percentage >= 70:\n",
    "    grade = \"B\"\n",
    "elif percentage >= 60:\n",
    "    grade = \"C\"\n",
    "else:\n",
    "    grade = \"Fail\"\n",
    "\n",
    "# Output the grade\n",
    "print(f\"The student's grade is: {grade}\")"
   ]
  },
  {
   "cell_type": "markdown",
   "id": "4f92564f-853c-4956-9f83-ef298a280bc1",
   "metadata": {},
   "source": [
    "### Vowel Or Consonent "
   ]
  },
  {
   "cell_type": "markdown",
   "id": "1f5c3955-7331-4f62-803f-b70c691b06bb",
   "metadata": {},
   "source": [
    "15 ) Vowel or Consonant: Write a Python program that takes a single character as input and determines whether it is a vowel or a consonant."
   ]
  },
  {
   "cell_type": "code",
   "execution_count": 16,
   "id": "5498eda3-31e0-470e-aa2f-4013d0602083",
   "metadata": {},
   "outputs": [
    {
     "name": "stdin",
     "output_type": "stream",
     "text": [
      "Enter a single character:  h\n"
     ]
    },
    {
     "name": "stdout",
     "output_type": "stream",
     "text": [
      "h is a consonant.\n"
     ]
    }
   ],
   "source": [
    "# Taking a single character as input from the user\n",
    "char = input(\"Enter a single character: \").lower()\n",
    "\n",
    "# Checking if the input is a single character\n",
    "if len(char) != 1 or not char.isalpha():\n",
    "    print(\"Please enter a single alphabetic character.\")\n",
    "else:\n",
    "    # Determining if the character is a vowel or consonant\n",
    "    if char in 'aeiou':\n",
    "        print(f\"{char} is a vowel.\")\n",
    "    else:\n",
    "        print(f\"{char} is a consonant.\")"
   ]
  },
  {
   "cell_type": "markdown",
   "id": "593087c5-d9d9-42d3-8405-96d26c960de4",
   "metadata": {},
   "source": [
    "### Time Classification "
   ]
  },
  {
   "cell_type": "markdown",
   "id": "07654165-e7f1-4743-a028-bfdfb4b622fe",
   "metadata": {},
   "source": [
    "16 ) Time Classification: Write a Python program that takes the time in hours (24-hour format) as input and prints “Good Morning”, “Good Afternoon”, “Good Evening”, or “Good Night” based on the time."
   ]
  },
  {
   "cell_type": "code",
   "execution_count": 15,
   "id": "a6e2f956-c08b-48e6-84af-3152e176fd82",
   "metadata": {},
   "outputs": [
    {
     "name": "stdin",
     "output_type": "stream",
     "text": [
      "Enter the time in hours (24-hour format):  5\n"
     ]
    },
    {
     "name": "stdout",
     "output_type": "stream",
     "text": [
      "Good Morning\n"
     ]
    }
   ],
   "source": [
    "# Taking the time in hours as input from the user\n",
    "hours = int(input(\"Enter the time in hours (24-hour format): \"))\n",
    "\n",
    "# Determining the greeting based on the time\n",
    "if 0 <= hours < 12:\n",
    "    greeting = \"Good Morning\"\n",
    "elif 12 <= hours < 17:\n",
    "    greeting = \"Good Afternoon\"\n",
    "elif 17 <= hours < 20:\n",
    "    greeting = \"Good Evening\"\n",
    "elif 20 <= hours < 24:\n",
    "    greeting = \"Good Night\"\n",
    "else:\n",
    "    greeting = \"Invalid time. Please enter a time between 0 and 23.\"\n",
    "\n",
    "# Output the greeting\n",
    "print(greeting)"
   ]
  },
  {
   "cell_type": "markdown",
   "id": "ce3076b9-b0ea-4098-9600-fd09987d2f54",
   "metadata": {},
   "source": [
    "### Triangle Type Checker"
   ]
  },
  {
   "cell_type": "markdown",
   "id": "fa1593ac-78ef-4b8c-bde5-00a95632cf3f",
   "metadata": {},
   "source": [
    "17 ) Write a Python program that takes three sides of a triangle as input and determines whether it forms an equilateral, isosceles, or scalene triangle."
   ]
  },
  {
   "cell_type": "code",
   "execution_count": 14,
   "id": "074770b6-b174-4be3-b56e-2a4b1e737edc",
   "metadata": {},
   "outputs": [
    {
     "name": "stdin",
     "output_type": "stream",
     "text": [
      "Enter the first side of the triangle:  5\n",
      "Enter the second side of the triangle:  4\n",
      "Enter the third side of the triangle:  3\n"
     ]
    },
    {
     "name": "stdout",
     "output_type": "stream",
     "text": [
      "The triangle is Scalene.\n"
     ]
    }
   ],
   "source": [
    "# Taking the three sides of the triangle as input from the user\n",
    "side1 = float(input(\"Enter the first side of the triangle: \"))\n",
    "side2 = float(input(\"Enter the second side of the triangle: \"))\n",
    "side3 = float(input(\"Enter the third side of the triangle: \"))\n",
    "\n",
    "# Checking if the sides form a valid triangle\n",
    "if (side1 + side2 > side3) and (side1 + side3 > side2) and (side2 + side3 > side1):\n",
    "    # Determining the type of triangle\n",
    "    if side1 == side2 == side3:\n",
    "        triangle_type = \"Equilateral\"\n",
    "    elif side1 == side2 or side1 == side3 or side2 == side3:\n",
    "        triangle_type = \"Isosceles\"\n",
    "    else:\n",
    "        triangle_type = \"Scalene\"\n",
    "else:\n",
    "    triangle_type = \"Invalid triangle\"\n",
    "\n",
    "# Output the type of triangle\n",
    "print(f\"The triangle is {triangle_type}.\")"
   ]
  },
  {
   "cell_type": "markdown",
   "id": "1ebe1b08-67b0-4d7a-9ed6-18700431b647",
   "metadata": {},
   "source": [
    "### Quadratic Equation Solver"
   ]
  },
  {
   "cell_type": "markdown",
   "id": "4e8069f2-d1c5-4eb1-ab04-91c9c505b676",
   "metadata": {},
   "source": [
    "18 ) Write a Python program that takes the coefficients (a, b, c) of a quadratic equation as input and calculates and prints the real roots (if they exist) or a message indicating the complex roots."
   ]
  },
  {
   "cell_type": "code",
   "execution_count": 13,
   "id": "1fb5892e-4134-4fd1-92a1-3958ae3e5ca7",
   "metadata": {},
   "outputs": [
    {
     "name": "stdin",
     "output_type": "stream",
     "text": [
      "Enter coefficient a:  5\n",
      "Enter coefficient b:  4\n",
      "Enter coefficient c:  3\n"
     ]
    },
    {
     "name": "stdout",
     "output_type": "stream",
     "text": [
      "Root 1: (-0.4+0.6633249580710799j)\n",
      "Root 2: (-0.4-0.6633249580710799j)\n"
     ]
    }
   ],
   "source": [
    "import cmath\n",
    "\n",
    "# Taking the coefficients a, b, and c as input from the user\n",
    "a = float(input(\"Enter coefficient a: \"))\n",
    "b = float(input(\"Enter coefficient b: \"))\n",
    "c = float(input(\"Enter coefficient c: \"))\n",
    "\n",
    "# Calculating the discriminant\n",
    "discriminant = b**2 - 4*a*c\n",
    "\n",
    "# Finding the roots based on the discriminant\n",
    "if discriminant > 0:\n",
    "    # Two real and distinct roots\n",
    "    root1 = (-b + cmath.sqrt(discriminant)) / (2 * a)\n",
    "    root2 = (-b - cmath.sqrt(discriminant)) / (2 * a)\n",
    "    print(f\"Root 1: {root1.real:.2f}\")\n",
    "    print(f\"Root 2: {root2.real:.2f}\")\n",
    "elif discriminant == 0:\n",
    "    # One real root (repeated)\n",
    "    root = -b / (2 * a)\n",
    "    print(f\"Root: {root:.2f}\")\n",
    "else:\n",
    "    # Complex roots\n",
    "    root1 = (-b + cmath.sqrt(discriminant)) / (2 * a)\n",
    "    root2 = (-b - cmath.sqrt(discriminant)) / (2 * a)\n",
    "    print(f\"Root 1: {root1}\")\n",
    "    print(f\"Root 2: {root2}\")\n"
   ]
  },
  {
   "cell_type": "markdown",
   "id": "c39d3e79-b3e3-44f5-87b8-4d4af68e83dc",
   "metadata": {},
   "source": [
    "### Number Ranges "
   ]
  },
  {
   "cell_type": "markdown",
   "id": "874d9085-0493-4a92-b003-e071584f9aab",
   "metadata": {},
   "source": [
    "19 ) Write a Python program that takes an integer as input and prints whether the number falls within the ranges: 0-50, 51-100, 101-150, or above 150."
   ]
  },
  {
   "cell_type": "code",
   "execution_count": 12,
   "id": "42a73525-6517-46e9-95fe-eb355961434b",
   "metadata": {},
   "outputs": [
    {
     "name": "stdin",
     "output_type": "stream",
     "text": [
      "Enter an integer:  20\n"
     ]
    },
    {
     "name": "stdout",
     "output_type": "stream",
     "text": [
      "The number falls in the range: 0-50\n"
     ]
    }
   ],
   "source": [
    "# Taking an integer as input from the user\n",
    "number = int(input(\"Enter an integer: \"))\n",
    "\n",
    "# Determining the range in which the number falls\n",
    "if 0 <= number <= 50:\n",
    "    range_description = \"0-50\"\n",
    "elif 51 <= number <= 100:\n",
    "    range_description = \"51-100\"\n",
    "elif 101 <= number <= 150:\n",
    "    range_description = \"101-150\"\n",
    "else:\n",
    "    range_description = \"Above 150\"\n",
    "\n",
    "# Output the range\n",
    "print(f\"The number falls in the range: {range_description}\")"
   ]
  },
  {
   "cell_type": "markdown",
   "id": "67fa353b-a825-4adc-a266-e596040a654f",
   "metadata": {},
   "source": [
    "# For And While Loops Problems"
   ]
  },
  {
   "cell_type": "markdown",
   "id": "ff113e22-c70b-4ad1-8354-1792258d1491",
   "metadata": {},
   "source": [
    "### Sum of N numbers "
   ]
  },
  {
   "cell_type": "markdown",
   "id": "5ba27d30-8f3b-4918-89b0-08b6944d627a",
   "metadata": {},
   "source": [
    "20)  Write a Python program using a for loop to calculate the sum of the first N natural numbers, where N is taken as input from the user."
   ]
  },
  {
   "cell_type": "code",
   "execution_count": 21,
   "id": "d0dea027-5233-4d77-a82f-90bb6957ff57",
   "metadata": {},
   "outputs": [
    {
     "name": "stdin",
     "output_type": "stream",
     "text": [
      "Enter a positive integer N:  10\n"
     ]
    },
    {
     "name": "stdout",
     "output_type": "stream",
     "text": [
      "The sum of the first 10 natural numbers is: 55\n"
     ]
    }
   ],
   "source": [
    "# Taking the value of N as input from the user\n",
    "N = int(input(\"Enter a positive integer N: \"))\n",
    "\n",
    "# Initializing the sum\n",
    "sum_of_numbers = 0\n",
    "\n",
    "# Calculating the sum using a for loop\n",
    "for i in range(1, N + 1):\n",
    "    sum_of_numbers += i\n",
    "\n",
    "# Output the result\n",
    "print(f\"The sum of the first {N} natural numbers is: {sum_of_numbers}\")"
   ]
  },
  {
   "cell_type": "markdown",
   "id": "327581aa-92e9-4061-8834-303d4f832667",
   "metadata": {},
   "source": [
    "### Factorial Calculator "
   ]
  },
  {
   "cell_type": "markdown",
   "id": "dc6816a2-002f-49fe-b36c-35276bd71315",
   "metadata": {},
   "source": [
    "21 ) Write a Python program using a while loop to calculate the factorial of a given number N."
   ]
  },
  {
   "cell_type": "code",
   "execution_count": 23,
   "id": "d0187aeb-2804-461c-ab35-8add33ae3e89",
   "metadata": {},
   "outputs": [
    {
     "name": "stdin",
     "output_type": "stream",
     "text": [
      "Enter a non-negative integer N:  6\n"
     ]
    },
    {
     "name": "stdout",
     "output_type": "stream",
     "text": [
      "The factorial is: 720\n"
     ]
    }
   ],
   "source": [
    "# Taking the value of N as input from the user\n",
    "N = int(input(\"Enter a non-negative integer N: \"))\n",
    "\n",
    "# Initializing the factorial result\n",
    "factorial = 1\n",
    "\n",
    "# Calculating the factorial using a while loop\n",
    "while N > 0:\n",
    "    factorial *= N\n",
    "    N -= 1\n",
    "\n",
    "# Output the result\n",
    "print(f\"The factorial is: {factorial}\")\n"
   ]
  },
  {
   "cell_type": "markdown",
   "id": "cbc95dca-de1a-4315-b661-9461f0ac430b",
   "metadata": {},
   "source": [
    "### Table Of a Number"
   ]
  },
  {
   "cell_type": "markdown",
   "id": "047f18a5-acb5-4aa2-827f-e7dd2b278189",
   "metadata": {},
   "source": [
    "22 ) Write a Python program using a for loop to print the multiplication table of a given number N."
   ]
  },
  {
   "cell_type": "code",
   "execution_count": 24,
   "id": "ccae4f6e-eef0-45e3-b206-ef38c7311892",
   "metadata": {},
   "outputs": [
    {
     "name": "stdin",
     "output_type": "stream",
     "text": [
      "Enter the number to print the multiplication table:  4\n"
     ]
    },
    {
     "name": "stdout",
     "output_type": "stream",
     "text": [
      "Multiplication table for 4:\n",
      "4 x 1 = 4\n",
      "4 x 2 = 8\n",
      "4 x 3 = 12\n",
      "4 x 4 = 16\n",
      "4 x 5 = 20\n",
      "4 x 6 = 24\n",
      "4 x 7 = 28\n",
      "4 x 8 = 32\n",
      "4 x 9 = 36\n",
      "4 x 10 = 40\n"
     ]
    }
   ],
   "source": [
    "# Taking the value of N as input from the user\n",
    "N = int(input(\"Enter the number to print the multiplication table: \"))\n",
    "\n",
    "# Printing the multiplication table using a for loop\n",
    "print(f\"Multiplication table for {N}:\")\n",
    "for i in range(1, 11):\n",
    "    print(f\"{N} x {i} = {N * i}\")"
   ]
  },
  {
   "cell_type": "markdown",
   "id": "c2c6dcdd-91a3-4d9e-8c90-1bae438cc5b0",
   "metadata": {},
   "source": [
    "### Count Digits in a Number"
   ]
  },
  {
   "cell_type": "markdown",
   "id": "dda7971a-7459-4ee6-b677-eeef5544629d",
   "metadata": {},
   "source": [
    "23 ) Write a Python program using a while loop to count the number of digits in a given integer N."
   ]
  },
  {
   "cell_type": "code",
   "execution_count": 26,
   "id": "673f0eac-514d-45f6-8ea1-2b3e4a9b091b",
   "metadata": {},
   "outputs": [
    {
     "name": "stdin",
     "output_type": "stream",
     "text": [
      "Enter an integer:  1000\n"
     ]
    },
    {
     "name": "stdout",
     "output_type": "stream",
     "text": [
      "The number of digits in 1000 is: 4\n"
     ]
    }
   ],
   "source": [
    "# Taking the value of N as input from the user\n",
    "N = int(input(\"Enter an integer: \"))\n",
    "\n",
    "# Initialize the digit count\n",
    "digit_count = 0\n",
    "\n",
    "# Handle the case where N is zero\n",
    "if N == 0:\n",
    "    digit_count = 1\n",
    "else:\n",
    "    # Using a while loop to count the digits\n",
    "    temp = abs(N)  # Use the absolute value to handle negative numbers\n",
    "    while temp > 0:\n",
    "        digit_count += 1\n",
    "        temp //= 10\n",
    "\n",
    "# Output the result\n",
    "print(f\"The number of digits in {N} is: {digit_count}\")"
   ]
  },
  {
   "cell_type": "markdown",
   "id": "c3d1bf6c-3795-4300-88e5-508ac97e32b9",
   "metadata": {},
   "source": [
    "### Fibonacci Sequence"
   ]
  },
  {
   "cell_type": "markdown",
   "id": "3fe7b1c3-4ff4-4178-95b2-575b2c1af0c2",
   "metadata": {},
   "source": [
    "24 ) Write a Python program using a for loop to generate the Fibonacci sequence up to a given limit N."
   ]
  },
  {
   "cell_type": "code",
   "execution_count": 27,
   "id": "59cbe50d-0c97-4c53-8547-f73581473c66",
   "metadata": {},
   "outputs": [
    {
     "name": "stdin",
     "output_type": "stream",
     "text": [
      "Enter the limit N for the Fibonacci sequence:  5\n"
     ]
    },
    {
     "name": "stdout",
     "output_type": "stream",
     "text": [
      "Fibonacci sequence up to 5 :\n",
      "0 1 1 2 3 \n"
     ]
    }
   ],
   "source": [
    "# Taking the limit N as input from the user\n",
    "N = int(input(\"Enter the limit N for the Fibonacci sequence: \"))\n",
    "\n",
    "# Initializing the first two Fibonacci numbers\n",
    "a, b = 0, 1\n",
    "\n",
    "# Printing the Fibonacci sequence up to the limit N\n",
    "print(\"Fibonacci sequence up to\", N, \":\")\n",
    "print(a, end=' ')\n",
    "for _ in range(1, N):\n",
    "    a, b = b, a + b\n",
    "    if a > N:\n",
    "        break\n",
    "    print(a, end=' ')\n",
    "print()  # For a new line after the sequence"
   ]
  },
  {
   "cell_type": "markdown",
   "id": "07e41853-e1f0-4797-8e7e-ef69117b41ef",
   "metadata": {},
   "source": [
    "### Sum of Even Numbers "
   ]
  },
  {
   "cell_type": "markdown",
   "id": "05dab389-c7c5-43ae-a1b4-69b3b371dd38",
   "metadata": {},
   "source": [
    "25 ) Write a Python program using a while loop to calculate the sum of all even numbers between 1 and N, where N is taken as input from the user."
   ]
  },
  {
   "cell_type": "code",
   "execution_count": 28,
   "id": "ba9dc156-9fbd-4b2f-84df-23d4642df090",
   "metadata": {},
   "outputs": [
    {
     "name": "stdin",
     "output_type": "stream",
     "text": [
      "Enter the value of N:  10\n"
     ]
    },
    {
     "name": "stdout",
     "output_type": "stream",
     "text": [
      "The sum of all even numbers between 1 and 10 is: 30\n"
     ]
    }
   ],
   "source": [
    "# Taking the value of N as input from the user\n",
    "N = int(input(\"Enter the value of N: \"))\n",
    "\n",
    "# Initializing variables\n",
    "sum_even = 0\n",
    "current = 2  # Start from the first even number\n",
    "\n",
    "# Calculating the sum of even numbers using a while loop\n",
    "while current <= N:\n",
    "    sum_even += current\n",
    "    current += 2  # Move to the next even number\n",
    "\n",
    "# Output the result\n",
    "print(f\"The sum of all even numbers between 1 and {N} is: {sum_even}\")"
   ]
  },
  {
   "cell_type": "markdown",
   "id": "e2cadec2-68db-4162-b409-87733da4deb2",
   "metadata": {},
   "source": [
    "### Print Patterns "
   ]
  },
  {
   "cell_type": "markdown",
   "id": "33ee36de-e96a-47a7-9391-ae7a9384abd9",
   "metadata": {},
   "source": [
    "26 )  Write a Python program using nested for loops to print various patterns, such as a right-angled triangle, an inverted right-angled triangle, and so on."
   ]
  },
  {
   "cell_type": "code",
   "execution_count": 32,
   "id": "af696611-d548-4c66-b431-2f681ab2315f",
   "metadata": {},
   "outputs": [
    {
     "name": "stdin",
     "output_type": "stream",
     "text": [
      "Enter the number of rows for the patterns:  3\n"
     ]
    },
    {
     "name": "stdout",
     "output_type": "stream",
     "text": [
      "Right-angled Triangle:\n",
      "*\n",
      "**\n",
      "***\n",
      "\n",
      "Inverted Right-angled Triangle:\n",
      "***\n",
      "**\n",
      "*\n",
      "\n",
      "Pyramid:\n",
      "  *\n",
      " ***\n",
      "*****\n",
      "\n",
      "Inverted Pyramid:\n",
      "*****\n",
      " ***\n",
      "  *\n",
      "\n"
     ]
    }
   ],
   "source": [
    "# Function to print a right-angled triangle pattern\n",
    "def print_right_angled_triangle(n):\n",
    "    print(\"Right-angled Triangle:\")\n",
    "    for i in range(1, n + 1):\n",
    "        print('*' * i)\n",
    "    print()  # For a new line after the pattern\n",
    "\n",
    "# Function to print an inverted right-angled triangle pattern\n",
    "def print_inverted_right_angled_triangle(n):\n",
    "    print(\"Inverted Right-angled Triangle:\")\n",
    "    for i in range(n, 0, -1):\n",
    "        print('*' * i)\n",
    "    print()  # For a new line after the pattern\n",
    "\n",
    "# Function to print a pyramid pattern\n",
    "def print_pyramid(n):\n",
    "    print(\"Pyramid:\")\n",
    "    for i in range(n):\n",
    "        print(' ' * (n - i - 1) + '*' * (2 * i + 1))\n",
    "    print()  # For a new line after the pattern\n",
    "\n",
    "# Function to print an inverted pyramid pattern\n",
    "def print_inverted_pyramid(n):\n",
    "    print(\"Inverted Pyramid:\")\n",
    "    for i in range(n, 0, -1):\n",
    "        print(' ' * (n - i) + '*' * (2 * i - 1))\n",
    "    print()  # For a new line after the pattern\n",
    "\n",
    "# Taking the number of rows as input from the user\n",
    "rows = int(input(\"Enter the number of rows for the patterns: \"))\n",
    "\n",
    "# Print the patterns\n",
    "print_right_angled_triangle(rows)\n",
    "print_inverted_right_angled_triangle(rows)  # Fixed typo here\n",
    "print_pyramid(rows)\n",
    "print_inverted_pyramid(rows)\n"
   ]
  },
  {
   "cell_type": "markdown",
   "id": "214335f8-416f-4909-91e5-91d9e6c54ec6",
   "metadata": {},
   "source": [
    "### Print Number Checker "
   ]
  },
  {
   "cell_type": "markdown",
   "id": "546dda32-a11f-4c96-bcad-b667cad3b009",
   "metadata": {},
   "source": [
    "27 ) Write a Python program using a while loop to check if a given number N is prime or not."
   ]
  },
  {
   "cell_type": "code",
   "execution_count": 31,
   "id": "32748947-28c9-45db-b63a-9ae74c1d6ff7",
   "metadata": {},
   "outputs": [
    {
     "name": "stdin",
     "output_type": "stream",
     "text": [
      "Enter a positive integer N:  5\n"
     ]
    },
    {
     "name": "stdout",
     "output_type": "stream",
     "text": [
      "5 is a prime number.\n"
     ]
    }
   ],
   "source": [
    "# Taking the value of N as input from the user\n",
    "N = int(input(\"Enter a positive integer N: \"))\n",
    "\n",
    "# Handling edge cases\n",
    "if N <= 1:\n",
    "    is_prime = False\n",
    "elif N == 2:\n",
    "    is_prime = True\n",
    "else:\n",
    "    # Initializing the check\n",
    "    is_prime = True\n",
    "    divisor = 2\n",
    "    \n",
    "    # Checking for factors\n",
    "    while divisor * divisor <= N:\n",
    "        if N % divisor == 0:\n",
    "            is_prime = False\n",
    "            break\n",
    "        divisor += 1\n",
    "\n",
    "# Output the result\n",
    "if is_prime:\n",
    "    print(f\"{N} is a prime number.\")\n",
    "else:\n",
    "    print(f\"{N} is not a prime number.\")\n"
   ]
  },
  {
   "cell_type": "markdown",
   "id": "7ca3e4f2-dd36-4b45-8529-2afd306f2f11",
   "metadata": {},
   "source": [
    "### List Manipulation "
   ]
  },
  {
   "cell_type": "markdown",
   "id": "967efa7a-8075-4836-bea2-d1af690bcec6",
   "metadata": {},
   "source": [
    "28 ) Given a list of integers, write a Python program using a for loop to find the sum, average, maximum, and minimum values in the list."
   ]
  },
  {
   "cell_type": "code",
   "execution_count": 38,
   "id": "f1ddcbde-edea-4b2e-921a-36308a5fe9a0",
   "metadata": {},
   "outputs": [
    {
     "name": "stdin",
     "output_type": "stream",
     "text": [
      "Enter a list of integers separated by spaces:  5 10 6 3\n"
     ]
    },
    {
     "name": "stdout",
     "output_type": "stream",
     "text": [
      "Total Sum: 24\n",
      "Maximum: 10\n",
      "Minimum: 3\n",
      "Average: 6.0\n"
     ]
    }
   ],
   "source": [
    "# Taking a list of integers as input from the user\n",
    "input_list = input(\"Enter a list of integers separated by spaces: \").split()\n",
    "\n",
    "# Converting the input list of strings to a list of integers\n",
    "numbers = [int(x) for x in input_list]\n",
    "\n",
    "# Initializing variables for sum, maximum, and minimum values\n",
    "total_sum = 0\n",
    "maximum = numbers[0]\n",
    "minimum = numbers[0]\n",
    "\n",
    "# Calculating sum, maximum, and minimum using a for loop\n",
    "for num in numbers:\n",
    "    total_sum += num\n",
    "    if num > maximum:\n",
    "        maximum = num\n",
    "    if num < minimum:\n",
    "        minimum = num\n",
    "\n",
    "# Calculating the average\n",
    "average = total_sum / len(numbers) if numbers else 0\n",
    "\n",
    "# Printing the results\n",
    "print(f\"Total Sum: {total_sum}\")\n",
    "print(f\"Maximum: {maximum}\")\n",
    "print(f\"Minimum: {minimum}\")\n",
    "print(f\"Average: {average}\")\n"
   ]
  },
  {
   "cell_type": "markdown",
   "id": "676c2397-fbbb-4902-9264-fcab6733cf14",
   "metadata": {},
   "source": [
    "### Rivers String "
   ]
  },
  {
   "cell_type": "markdown",
   "id": "738ecaab-dd8f-497f-9d72-2e2490849903",
   "metadata": {},
   "source": [
    "29) Write a Python program using a while loop to reverse a given string.\n"
   ]
  },
  {
   "cell_type": "code",
   "execution_count": 36,
   "id": "af40299b-1d46-40f5-958a-2ad428b7c482",
   "metadata": {},
   "outputs": [
    {
     "name": "stdin",
     "output_type": "stream",
     "text": [
      "Enter a string to reverse:  Hira\n"
     ]
    },
    {
     "name": "stdout",
     "output_type": "stream",
     "text": [
      "Reversed string: ariH\n"
     ]
    }
   ],
   "source": [
    "# Taking a string as input from the user\n",
    "input_string = input(\"Enter a string to reverse: \")\n",
    "\n",
    "# Initializing variables\n",
    "reversed_string = \"\"\n",
    "index = len(input_string) - 1\n",
    "\n",
    "# Reversing the string using a while loop\n",
    "while index >= 0:\n",
    "    reversed_string += input_string[index]\n",
    "    index -= 1\n",
    "\n",
    "# Output the reversed string\n",
    "print(\"Reversed string:\", reversed_string)"
   ]
  },
  {
   "cell_type": "markdown",
   "id": "14e6c275-1b25-4b74-8072-683cf564882e",
   "metadata": {},
   "source": [
    "# Nested Loop Problems"
   ]
  },
  {
   "cell_type": "markdown",
   "id": "d6f29aa4-a91f-4e4a-be1b-1c65fe2c4ae0",
   "metadata": {},
   "source": [
    "###  Multiplication Table"
   ]
  },
  {
   "cell_type": "markdown",
   "id": "10509b1d-6baf-464e-9cac-11eeb89849ca",
   "metadata": {},
   "source": [
    "30 ) Write a Python program using nested loops to print the multiplication table from 1 to 10."
   ]
  },
  {
   "cell_type": "code",
   "execution_count": 39,
   "id": "c9eab9bf-ae9b-4dc3-b4dd-8d5b6943c69d",
   "metadata": {},
   "outputs": [
    {
     "name": "stdout",
     "output_type": "stream",
     "text": [
      "Multiplication Table from 1 to 10:\n",
      "1 x 1 = 1\t1 x 2 = 2\t1 x 3 = 3\t1 x 4 = 4\t1 x 5 = 5\t1 x 6 = 6\t1 x 7 = 7\t1 x 8 = 8\t1 x 9 = 9\t1 x 10 = 10\t\n",
      "2 x 1 = 2\t2 x 2 = 4\t2 x 3 = 6\t2 x 4 = 8\t2 x 5 = 10\t2 x 6 = 12\t2 x 7 = 14\t2 x 8 = 16\t2 x 9 = 18\t2 x 10 = 20\t\n",
      "3 x 1 = 3\t3 x 2 = 6\t3 x 3 = 9\t3 x 4 = 12\t3 x 5 = 15\t3 x 6 = 18\t3 x 7 = 21\t3 x 8 = 24\t3 x 9 = 27\t3 x 10 = 30\t\n",
      "4 x 1 = 4\t4 x 2 = 8\t4 x 3 = 12\t4 x 4 = 16\t4 x 5 = 20\t4 x 6 = 24\t4 x 7 = 28\t4 x 8 = 32\t4 x 9 = 36\t4 x 10 = 40\t\n",
      "5 x 1 = 5\t5 x 2 = 10\t5 x 3 = 15\t5 x 4 = 20\t5 x 5 = 25\t5 x 6 = 30\t5 x 7 = 35\t5 x 8 = 40\t5 x 9 = 45\t5 x 10 = 50\t\n",
      "6 x 1 = 6\t6 x 2 = 12\t6 x 3 = 18\t6 x 4 = 24\t6 x 5 = 30\t6 x 6 = 36\t6 x 7 = 42\t6 x 8 = 48\t6 x 9 = 54\t6 x 10 = 60\t\n",
      "7 x 1 = 7\t7 x 2 = 14\t7 x 3 = 21\t7 x 4 = 28\t7 x 5 = 35\t7 x 6 = 42\t7 x 7 = 49\t7 x 8 = 56\t7 x 9 = 63\t7 x 10 = 70\t\n",
      "8 x 1 = 8\t8 x 2 = 16\t8 x 3 = 24\t8 x 4 = 32\t8 x 5 = 40\t8 x 6 = 48\t8 x 7 = 56\t8 x 8 = 64\t8 x 9 = 72\t8 x 10 = 80\t\n",
      "9 x 1 = 9\t9 x 2 = 18\t9 x 3 = 27\t9 x 4 = 36\t9 x 5 = 45\t9 x 6 = 54\t9 x 7 = 63\t9 x 8 = 72\t9 x 9 = 81\t9 x 10 = 90\t\n",
      "10 x 1 = 10\t10 x 2 = 20\t10 x 3 = 30\t10 x 4 = 40\t10 x 5 = 50\t10 x 6 = 60\t10 x 7 = 70\t10 x 8 = 80\t10 x 9 = 90\t10 x 10 = 100\t\n"
     ]
    }
   ],
   "source": [
    "# Printing the multiplication table from 1 to 10\n",
    "print(\"Multiplication Table from 1 to 10:\")\n",
    "\n",
    "# Outer loop for the first number\n",
    "for i in range(1, 11):\n",
    "    # Inner loop for the second number\n",
    "    for j in range(1, 11):\n",
    "        # Printing the product of i and j\n",
    "        print(f\"{i} x {j} = {i * j}\", end='\\t')\n",
    "    # New line after each row\n",
    "    print()"
   ]
  },
  {
   "cell_type": "markdown",
   "id": "7ee3117b-94a5-4942-93d2-8de80595ad54",
   "metadata": {},
   "source": [
    "### Print Patterns "
   ]
  },
  {
   "cell_type": "raw",
   "id": "f364f1f4-c57c-4e6b-8c56-04a7b9e85a45",
   "metadata": {},
   "source": [
    "31 ) 31. Print Patterns: Write a Python program using nested loops to print the following pattern:\n",
    "\n",
    "*\n",
    "\n",
    "**\n",
    "\n",
    "***\n",
    "\n",
    "****\n",
    "\n",
    "*****"
   ]
  },
  {
   "cell_type": "code",
   "execution_count": 40,
   "id": "7978d72f-dedf-4444-8f25-c1659c03c551",
   "metadata": {},
   "outputs": [
    {
     "name": "stdout",
     "output_type": "stream",
     "text": [
      "*\n",
      "**\n",
      "***\n",
      "****\n",
      "*****\n"
     ]
    }
   ],
   "source": [
    "# Number of rows for the pattern\n",
    "rows = 5\n",
    "\n",
    "# Printing the pattern using nested loops\n",
    "for i in range(1, rows + 1):\n",
    "    for j in range(i):\n",
    "        print('*', end='')\n",
    "    print()  # Move to the next line after printing stars in the current row\n"
   ]
  },
  {
   "cell_type": "markdown",
   "id": "22383a60-7508-4371-be26-0247c836e633",
   "metadata": {},
   "source": [
    "### Matrix Multiplication "
   ]
  },
  {
   "cell_type": "markdown",
   "id": "2dc20c94-4666-4f4e-940e-ae5bcbd423ac",
   "metadata": {},
   "source": [
    "32 ) Write a Python program using nested loops to multiply two matrices."
   ]
  },
  {
   "cell_type": "code",
   "execution_count": null,
   "id": "229d9ff8-24c9-4126-b047-5375fd489546",
   "metadata": {},
   "outputs": [
    {
     "name": "stdout",
     "output_type": "stream",
     "text": [
      "Enter the number of rows and columns for matrix A:\n"
     ]
    },
    {
     "name": "stdin",
     "output_type": "stream",
     "text": [
      "Rows for A:  2\n",
      "Columns for A:  3\n"
     ]
    },
    {
     "name": "stdout",
     "output_type": "stream",
     "text": [
      "Enter the number of rows and columns for matrix B:\n"
     ]
    },
    {
     "name": "stdin",
     "output_type": "stream",
     "text": [
      "Rows for B:  3\n",
      "Columns for B:  2\n"
     ]
    },
    {
     "name": "stdout",
     "output_type": "stream",
     "text": [
      "Enter the elements of matrix A:\n"
     ]
    }
   ],
   "source": [
    "# Function to multiply two matrices\n",
    "def multiply_matrices(A, B):\n",
    "    # Get the dimensions of A and B\n",
    "    rows_A = len(A)\n",
    "    cols_A = len(A[0])\n",
    "    rows_B = len(B)\n",
    "    cols_B = len(B[0])\n",
    "    \n",
    "    # Initialize the result matrix with zeros\n",
    "    result = [[0 for _ in range(cols_B)] for _ in range(rows_A)]\n",
    "    \n",
    "    # Check if matrices can be multiplied\n",
    "    if cols_A != rows_B:\n",
    "        return \"Matrix multiplication not possible: number of columns in A must be equal to number of rows in B.\"\n",
    "    \n",
    "    # Perform matrix multiplication\n",
    "    for i in range(rows_A):\n",
    "        for j in range(cols_B):\n",
    "            for k in range(cols_A):\n",
    "                result[i][j] += A[i][k] * B[k][j]\n",
    "    \n",
    "    return result\n",
    "\n",
    "# Input matrices\n",
    "print(\"Enter the number of rows and columns for matrix A:\")\n",
    "rows_A = int(input(\"Rows for A: \"))\n",
    "cols_A = int(input(\"Columns for A: \"))\n",
    "\n",
    "print(\"Enter the number of rows and columns for matrix B:\")\n",
    "rows_B = int(input(\"Rows for B: \"))\n",
    "cols_B = int(input(\"Columns for B: \"))\n",
    "\n",
    "# Ensure matrices can be multiplied\n",
    "if cols_A != rows_B:\n",
    "    print(\"Matrix multiplication not possible.\")\n",
    "else:\n",
    "    # Input matrix A\n",
    "    print(\"Enter the elements of matrix A:\")\n",
    "    A = []\n",
    "    for i in range(rows_A):\n",
    "        row = list(map(int, input(f\"Enter row {i + 1}: \").split()))\n",
    "        A.append(row)\n",
    "    \n",
    "    # Input matrix B\n",
    "    print(\"Enter the elements of matrix B:\")\n",
    "    B = []\n",
    "    for i in range(rows_B):\n",
    "        row = list(map(int, input(f\"Enter row {i + 1}: \").split()))\n",
    "        B.append(row)\n",
    "    \n",
    "    # Perform matrix multiplication\n",
    "    result = multiply_matrices(A, B)\n",
    "    \n",
    "    # Print the result\n",
    "    print(\"Resultant matrix:\")\n",
    "    for row in result:\n",
    "        print(' '.join(map(str, row)))"
   ]
  },
  {
   "cell_type": "markdown",
   "id": "a5ddf62d-308c-4dfc-8806-a63dcbcf90ab",
   "metadata": {},
   "source": [
    "### Chessboard Pattern"
   ]
  },
  {
   "cell_type": "markdown",
   "id": "6f56ef58-1b05-4d1f-a71f-77c163528d69",
   "metadata": {},
   "source": [
    "33 ) Write a Python program using nested loops to print a chessboard pattern (alternating “X” and “O” characters) of size 8×8.34. Number Pyramid: Write a Python program using nested loops to print a number pyramid like the following: 1 22 333 4444 55555"
   ]
  },
  {
   "cell_type": "code",
   "execution_count": 1,
   "id": "b6acf9c0-f10d-441a-b641-a738252da658",
   "metadata": {},
   "outputs": [
    {
     "name": "stdout",
     "output_type": "stream",
     "text": [
      "X O X O X O X O \n",
      "\n",
      "O X O X O X O X \n",
      "\n",
      "X O X O X O X O \n",
      "\n",
      "O X O X O X O X \n",
      "\n",
      "X O X O X O X O \n",
      "\n",
      "O X O X O X O X \n",
      "\n",
      "X O X O X O X O \n",
      "\n",
      "O X O X O X O X \n",
      "\n",
      "    1\n",
      "   22\n",
      "  333\n",
      " 4444\n",
      "55555\n"
     ]
    }
   ],
   "source": [
    "# Size of the chessboard\n",
    "size = 8\n",
    "\n",
    "# Printing the chessboard pattern\n",
    "for i in range(size):\n",
    "    for j in range(size):\n",
    "        # Print 'X' if the sum of the row and column indices is even, 'O' if odd\n",
    "        if (i + j) % 2 == 0:\n",
    "            print('X', end=' ')\n",
    "        else:\n",
    "            print('O', end=' ')\n",
    "    print()  # Move to the next line after each row\n",
    "\n",
    "\n",
    "    print()\n",
    "\n",
    "\n",
    "# Number of levels for the pyramid\n",
    "levels = 5\n",
    "\n",
    "# Printing the number pyramid\n",
    "for i in range(1, levels + 1):\n",
    "    # Print leading spaces for alignment\n",
    "    print(' ' * (levels - i), end='')\n",
    "    # Print numbers\n",
    "    for j in range(i):\n",
    "        print(i, end='')\n",
    "    print()  # Move to the next line after each row\n"
   ]
  },
  {
   "cell_type": "markdown",
   "id": "f6ddc52d-1b84-4dd0-9e89-6fde23bb319e",
   "metadata": {},
   "source": [
    "# List Problems "
   ]
  },
  {
   "cell_type": "markdown",
   "id": "05614e5f-35b1-4e47-b3ab-6f8b400c330b",
   "metadata": {},
   "source": [
    "### List Sum "
   ]
  },
  {
   "cell_type": "markdown",
   "id": "cb5a9bdf-23de-4fcb-a1b4-fe3f0acabe83",
   "metadata": {},
   "source": [
    "34 ) Write a Python program to find the sum of all elements in a given list of integers."
   ]
  },
  {
   "cell_type": "code",
   "execution_count": 1,
   "id": "9faf13eb-76ff-448d-913d-14e032a4f37c",
   "metadata": {},
   "outputs": [
    {
     "name": "stdin",
     "output_type": "stream",
     "text": [
      "Enter a list of integers separated by spaces:  1 2 3 \n"
     ]
    },
    {
     "name": "stdout",
     "output_type": "stream",
     "text": [
      "The sum of all elements in the list is: 6\n"
     ]
    }
   ],
   "source": [
    "# Taking a list of integers as input from the user\n",
    "# For simplicity, we assume the input is a space-separated string of numbers\n",
    "input_list = input(\"Enter a list of integers separated by spaces: \").split()\n",
    "\n",
    "# Converting the input list of strings to a list of integers\n",
    "numbers = [int(x) for x in input_list]\n",
    "\n",
    "# Calculating the sum of the elements in the list\n",
    "total_sum = sum(numbers)\n",
    "\n",
    "# Output the result\n",
    "print(f\"The sum of all elements in the list is: {total_sum}\")"
   ]
  },
  {
   "cell_type": "markdown",
   "id": "7bb969b7-9099-4ab9-9dbe-5843f727ac82",
   "metadata": {},
   "source": [
    "### List Average "
   ]
  },
  {
   "cell_type": "markdown",
   "id": "a0dda507-23da-4c35-91ff-65126f598bb4",
   "metadata": {},
   "source": [
    "35 ) Write a Python program to calculate the average of all elements in a given list of integers."
   ]
  },
  {
   "cell_type": "code",
   "execution_count": 2,
   "id": "8bdf4775-d0bd-456e-84ca-96f24ccb4c70",
   "metadata": {},
   "outputs": [
    {
     "name": "stdin",
     "output_type": "stream",
     "text": [
      "Enter a list of integers separated by spaces:  1 2 3 \n"
     ]
    },
    {
     "name": "stdout",
     "output_type": "stream",
     "text": [
      "The average of all elements in the list is: 2.00\n"
     ]
    }
   ],
   "source": [
    "# Taking a list of integers as input from the user\n",
    "# For simplicity, we assume the input is a space-separated string of numbers\n",
    "input_list = input(\"Enter a list of integers separated by spaces: \").split()\n",
    "\n",
    "# Converting the input list of strings to a list of integers\n",
    "numbers = [int(x) for x in input_list]\n",
    "\n",
    "# Calculating the sum of the elements in the list\n",
    "total_sum = sum(numbers)\n",
    "\n",
    "# Calculating the number of elements in the list\n",
    "count = len(numbers)\n",
    "\n",
    "# Calculating the average\n",
    "average = total_sum / count if count > 0 else 0\n",
    "\n",
    "# Output the result\n",
    "print(f\"The average of all elements in the list is: {average:.2f}\")\n"
   ]
  },
  {
   "cell_type": "markdown",
   "id": "a79e9c27-dacf-4c26-91e1-daf8c057ad7a",
   "metadata": {},
   "source": [
    "### List Max and Min"
   ]
  },
  {
   "cell_type": "markdown",
   "id": "6ebd5e02-6fe8-4b06-aafc-12837d9a0e78",
   "metadata": {},
   "source": [
    "36 ) Write a Python program to find the maximum and minimum values in a given list of integers."
   ]
  },
  {
   "cell_type": "code",
   "execution_count": 3,
   "id": "826d6bee-e09d-4cf9-8cf8-3dd71389add8",
   "metadata": {},
   "outputs": [
    {
     "name": "stdin",
     "output_type": "stream",
     "text": [
      "Enter a list of integers separated by spaces:  1 2 3 4 5\n"
     ]
    },
    {
     "name": "stdout",
     "output_type": "stream",
     "text": [
      "The maximum value in the list is: 5\n",
      "The minimum value in the list is: 1\n"
     ]
    }
   ],
   "source": [
    "# Taking a list of integers as input from the user\n",
    "# For simplicity, we assume the input is a space-separated string of numbers\n",
    "input_list = input(\"Enter a list of integers separated by spaces: \").split()\n",
    "\n",
    "# Converting the input list of strings to a list of integers\n",
    "numbers = [int(x) for x in input_list]\n",
    "\n",
    "# Finding the maximum and minimum values in the list\n",
    "max_value = max(numbers) if numbers else None\n",
    "min_value = min(numbers) if numbers else None\n",
    "\n",
    "# Output the results\n",
    "if numbers:\n",
    "    print(f\"The maximum value in the list is: {max_value}\")\n",
    "    print(f\"The minimum value in the list is: {min_value}\")\n",
    "else:\n",
    "    print(\"The list is empty. Cannot determine maximum and minimum values.\")\n"
   ]
  },
  {
   "cell_type": "markdown",
   "id": "1587fcbe-32d2-40a0-8487-8eb476e7d994",
   "metadata": {},
   "source": [
    "### List Sorting "
   ]
  },
  {
   "cell_type": "markdown",
   "id": "20f57200-e538-457b-b6f6-51182dd08c9e",
   "metadata": {},
   "source": [
    "37) Write a Python program to sort a list of integers in ascending order."
   ]
  },
  {
   "cell_type": "code",
   "execution_count": 4,
   "id": "741c3816-1fb5-4b2c-ab68-65ff739ec857",
   "metadata": {},
   "outputs": [
    {
     "name": "stdin",
     "output_type": "stream",
     "text": [
      "Enter a list of integers separated by spaces:  1 2 3 4 5\n"
     ]
    },
    {
     "name": "stdout",
     "output_type": "stream",
     "text": [
      "The sorted list in ascending order is:\n",
      "[1, 2, 3, 4, 5]\n",
      "\n",
      "The sorted list in ascending order is:\n",
      "[1, 2, 3, 4, 5]\n"
     ]
    }
   ],
   "source": [
    "# Taking a list of integers as input from the user\n",
    "# For simplicity, we assume the input is a space-separated string of numbers\n",
    "input_list = input(\"Enter a list of integers separated by spaces: \").split()\n",
    "\n",
    "# Converting the input list of strings to a list of integers\n",
    "numbers = [int(x) for x in input_list]\n",
    "\n",
    "# Sorting the list in ascending order\n",
    "numbers.sort()\n",
    "\n",
    "# Output the sorted list\n",
    "print(\"The sorted list in ascending order is:\")\n",
    "print(numbers)\n",
    "\n",
    "\n",
    "print ()\n",
    "\n",
    "# Sorting the list in ascending order and creating a new sorted list\n",
    "sorted_numbers = sorted(numbers)\n",
    "\n",
    "# Output the sorted list\n",
    "print(\"The sorted list in ascending order is:\")\n",
    "print(sorted_numbers)\n"
   ]
  },
  {
   "cell_type": "markdown",
   "id": "b7775d37-28ad-499b-af4e-d9db198b8832",
   "metadata": {},
   "source": [
    "### List Filtering "
   ]
  },
  {
   "cell_type": "markdown",
   "id": "5c8d0edf-de92-4da7-8747-9a250bd568ee",
   "metadata": {},
   "source": [
    "38 ) Given a list of integers, write a Python program to create a new list that contains only the even numbers from the original list."
   ]
  },
  {
   "cell_type": "code",
   "execution_count": 5,
   "id": "e412824f-7ac9-461f-a2a0-9460760f1b6d",
   "metadata": {},
   "outputs": [
    {
     "name": "stdin",
     "output_type": "stream",
     "text": [
      "Enter a list of integers separated by spaces:  1 2 3 4 5\n"
     ]
    },
    {
     "name": "stdout",
     "output_type": "stream",
     "text": [
      "The list of even numbers is:\n",
      "[2, 4]\n"
     ]
    }
   ],
   "source": [
    "# Taking a list of integers as input from the user\n",
    "# For simplicity, we assume the input is a space-separated string of numbers\n",
    "input_list = input(\"Enter a list of integers separated by spaces: \").split()\n",
    "\n",
    "# Converting the input list of strings to a list of integers\n",
    "numbers = [int(x) for x in input_list]\n",
    "\n",
    "# Filtering out the even numbers from the list\n",
    "even_numbers = [num for num in numbers if num % 2 == 0]\n",
    "\n",
    "# Output the new list containing only even numbers\n",
    "print(\"The list of even numbers is:\")\n",
    "print(even_numbers)"
   ]
  },
  {
   "cell_type": "markdown",
   "id": "cba1f7d4-75d9-4699-8cea-99475fd61910",
   "metadata": {},
   "source": [
    "### List Reversal "
   ]
  },
  {
   "cell_type": "markdown",
   "id": "8059702c-8df0-4300-8a7f-667b766d3999",
   "metadata": {},
   "source": [
    "39 ) Write a Python program to reverse a given list without using any built-in functions."
   ]
  },
  {
   "cell_type": "code",
   "execution_count": 6,
   "id": "14813d37-4004-4f38-8d71-36ab418f5d25",
   "metadata": {},
   "outputs": [
    {
     "name": "stdin",
     "output_type": "stream",
     "text": [
      "Enter a list of integers separated by spaces:  1 2 3 4 5\n"
     ]
    },
    {
     "name": "stdout",
     "output_type": "stream",
     "text": [
      "The reversed list is:\n",
      "[5, 4, 3, 2, 1]\n"
     ]
    }
   ],
   "source": [
    "# Taking a list of integers as input from the user\n",
    "# For simplicity, we assume the input is a space-separated string of numbers\n",
    "input_list = input(\"Enter a list of integers separated by spaces: \").split()\n",
    "\n",
    "# Converting the input list of strings to a list of integers\n",
    "numbers = [int(x) for x in input_list]\n",
    "\n",
    "# Reversing the list without using built-in functions\n",
    "reversed_numbers = []\n",
    "for num in numbers:\n",
    "    reversed_numbers.insert(0, num)  # Insert each element at the beginning of the new list\n",
    "\n",
    "# Output the reversed list\n",
    "print(\"The reversed list is:\")\n",
    "print(reversed_numbers)"
   ]
  },
  {
   "cell_type": "markdown",
   "id": "4ea3141a-72f9-4033-92c1-a83c994de9c5",
   "metadata": {},
   "source": [
    "### List Manipulation "
   ]
  },
  {
   "cell_type": "markdown",
   "id": "78968895-1d3a-4622-8096-6c332e422b6b",
   "metadata": {},
   "source": [
    "40 ) Given two lists of integers, write a Python program to create a new list that contains elements common to both lists."
   ]
  },
  {
   "cell_type": "code",
   "execution_count": 7,
   "id": "440b9f00-9ec5-4b19-821c-8f32aa629037",
   "metadata": {},
   "outputs": [
    {
     "name": "stdin",
     "output_type": "stream",
     "text": [
      "Enter the first list of integers separated by spaces:  1 2 3 4 5\n",
      "Enter the second list of integers separated by spaces:  1 2 3 4 5\n"
     ]
    },
    {
     "name": "stdout",
     "output_type": "stream",
     "text": [
      "The list of common elements is:\n",
      "[1, 2, 3, 4, 5]\n"
     ]
    }
   ],
   "source": [
    "\n",
    "# Taking two lists of integers as input from the user\n",
    "# For simplicity, we assume the input is space-separated strings of numbers\n",
    "input_list1 = input(\"Enter the first list of integers separated by spaces: \").split()\n",
    "input_list2 = input(\"Enter the second list of integers separated by spaces: \").split()\n",
    "\n",
    "# Converting the input lists of strings to lists of integers\n",
    "list1 = [int(x) for x in input_list1]\n",
    "list2 = [int(x) for x in input_list2]\n",
    "\n",
    "# Finding the common elements between the two lists\n",
    "common_elements = [value for value in list1 if value in list2]\n",
    "\n",
    "# Output the new list containing elements common to both lists\n",
    "print(\"The list of common elements is:\")\n",
    "print(common_elements)\n"
   ]
  },
  {
   "cell_type": "markdown",
   "id": "bb3a27b1-b4d1-4a64-af02-2852e64919b5",
   "metadata": {},
   "source": [
    "### List Element Count "
   ]
  },
  {
   "cell_type": "markdown",
   "id": "23742845-3d0a-4b8c-9525-8fdc99c4bc80",
   "metadata": {},
   "source": [
    "41 ) Write a Python program to count the occurrences of a specific element in a given list."
   ]
  },
  {
   "cell_type": "code",
   "execution_count": 9,
   "id": "189a0289-710a-4c5d-acfb-a3ec1763e4f4",
   "metadata": {},
   "outputs": [
    {
     "name": "stdin",
     "output_type": "stream",
     "text": [
      "Enter a list of integers separated by spaces:  1 2 3 4 5\n",
      "Enter the element to count its occurrences:  3\n"
     ]
    },
    {
     "name": "stdout",
     "output_type": "stream",
     "text": [
      "The element 3 occurs 1 times in the list.\n"
     ]
    }
   ],
   "source": [
    "# Taking a list of integers as input from the user\n",
    "# For simplicity, we assume the input is a space-separated string of numbers\n",
    "input_list = input(\"Enter a list of integers separated by spaces: \").split()\n",
    "\n",
    "# Converting the input list of strings to a list of integers\n",
    "numbers = [int(x) for x in input_list]\n",
    "\n",
    "# Taking the element to count as input from the user\n",
    "element = int(input(\"Enter the element to count its occurrences: \"))\n",
    "\n",
    "# Counting the occurrences of the specified element\n",
    "count = numbers.count(element)\n",
    "\n",
    "# Output the result\n",
    "print(f\"The element {element} occurs {count} times in the list.\")"
   ]
  },
  {
   "cell_type": "markdown",
   "id": "66b4163a-468f-4a89-b237-dc1020c2384c",
   "metadata": {},
   "source": [
    "### list Duplicate Removal "
   ]
  },
  {
   "cell_type": "markdown",
   "id": "2270aaee-7934-444c-8f51-cb0e47e06cf3",
   "metadata": {},
   "source": [
    "42 ) Write a Python program to remove duplicates from a given list while preserving the order of the elements."
   ]
  },
  {
   "cell_type": "code",
   "execution_count": 10,
   "id": "d96b8175-b0b2-435a-b005-103d95425d42",
   "metadata": {},
   "outputs": [
    {
     "name": "stdin",
     "output_type": "stream",
     "text": [
      "Enter a list of integers separated by spaces:  1 2 3 4 4 5\n"
     ]
    },
    {
     "name": "stdout",
     "output_type": "stream",
     "text": [
      "The list with duplicates removed is:\n",
      "[1, 2, 3, 4, 5]\n"
     ]
    }
   ],
   "source": [
    "# Taking a list of integers as input from the user\n",
    "# For simplicity, we assume the input is a space-separated string of numbers\n",
    "input_list = input(\"Enter a list of integers separated by spaces: \").split()\n",
    "\n",
    "# Converting the input list of strings to a list of integers\n",
    "numbers = [int(x) for x in input_list]\n",
    "\n",
    "# Removing duplicates while preserving order\n",
    "seen = set()\n",
    "unique_numbers = []\n",
    "for num in numbers:\n",
    "    if num not in seen:\n",
    "        unique_numbers.append(num)\n",
    "        seen.add(num)\n",
    "\n",
    "# Output the list with duplicates removed\n",
    "print(\"The list with duplicates removed is:\")\n",
    "print(unique_numbers)\n"
   ]
  },
  {
   "cell_type": "markdown",
   "id": "db2a208d-0fe0-4538-9350-b08a455edfd2",
   "metadata": {},
   "source": [
    "### List Comphrension "
   ]
  },
  {
   "cell_type": "markdown",
   "id": "748f44f9-1a56-4101-9b25-2759739b6472",
   "metadata": {},
   "source": [
    "43 ) Given a list of integers, write a Python program to create a new list that contains the squares of the elements using list comprehension."
   ]
  },
  {
   "cell_type": "code",
   "execution_count": 11,
   "id": "1238e11e-c81b-44b7-9a61-2647a64255ac",
   "metadata": {},
   "outputs": [
    {
     "name": "stdin",
     "output_type": "stream",
     "text": [
      "Enter a list of integers separated by spaces:  1 2 3 4 5 6\n"
     ]
    },
    {
     "name": "stdout",
     "output_type": "stream",
     "text": [
      "The list of squares of the elements is:\n",
      "[1, 4, 9, 16, 25, 36]\n"
     ]
    }
   ],
   "source": [
    "\n",
    "# Taking a list of integers as input from the user\n",
    "# For simplicity, we assume the input is a space-separated string of numbers\n",
    "input_list = input(\"Enter a list of integers separated by spaces: \").split()\n",
    "\n",
    "# Converting the input list of strings to a list of integers\n",
    "numbers = [int(x) for x in input_list]\n",
    "\n",
    "# Creating a new list that contains the squares of the elements using list comprehension\n",
    "squares = [num ** 2 for num in numbers]\n",
    "\n",
    "# Output the new list with squares\n",
    "print(\"The list of squares of the elements is:\")\n",
    "print(squares)"
   ]
  },
  {
   "cell_type": "markdown",
   "id": "bfb1a76a-9112-4f0e-a053-41facd6492c6",
   "metadata": {},
   "source": [
    "# Nested List Problems"
   ]
  },
  {
   "cell_type": "markdown",
   "id": "70a4aa35-d601-4f82-b304-d9b9ac617f56",
   "metadata": {},
   "source": [
    "### Matrix Addition "
   ]
  },
  {
   "cell_type": "markdown",
   "id": "35dcd3f9-e5fe-4085-aeb9-df49d0b186da",
   "metadata": {},
   "source": [
    "44 ) Write a Python program to add two matrices represented as nested lists."
   ]
  },
  {
   "cell_type": "code",
   "execution_count": null,
   "id": "17a7944b-d05f-44e3-b59c-456263fd207c",
   "metadata": {},
   "outputs": [
    {
     "name": "stdout",
     "output_type": "stream",
     "text": [
      "Enter the elements of the first matrix row by row (use spaces to separate elements and enter an empty line to end):\n"
     ]
    }
   ],
   "source": [
    "# Function to add two matrices\n",
    "def add_matrices(matrix1, matrix2):\n",
    "    # Check if matrices have the same dimensions\n",
    "    if len(matrix1) != len(matrix2) or any(len(row1) != len(row2) for row1, row2 in zip(matrix1, matrix2)):\n",
    "        raise ValueError(\"Matrices must have the same dimensions for addition.\")\n",
    "    \n",
    "    # Adding the matrices\n",
    "    result = [\n",
    "        [matrix1[i][j] + matrix2[i][j] for j in range(len(matrix1[0]))]\n",
    "        for i in range(len(matrix1))\n",
    "    ]\n",
    "    return result\n",
    "\n",
    "# Taking two matrices as input from the user\n",
    "print(\"Enter the elements of the first matrix row by row (use spaces to separate elements and enter an empty line to end):\")\n",
    "matrix1 = []\n",
    "while True:\n",
    "    row = input().strip()\n",
    "    if not row:\n",
    "        break\n",
    "    matrix1.append([int(x) for x in row.split()])\n",
    "\n",
    "print(\"Enter the elements of the second matrix row by row (use spaces to separate elements and enter an empty line to end):\")\n",
    "matrix2 = []\n",
    "while True:\n",
    "    row = input().strip()\n",
    "    if not row:\n",
    "        break\n",
    "    matrix2.append([int(x) for x in row.split()])\n",
    "\n",
    "# Adding the two matrices\n",
    "try:\n",
    "    result_matrix = add_matrices(matrix1, matrix2)\n",
    "    print(\"The resulting matrix after addition is:\")\n",
    "    for row in result_matrix:\n",
    "        print(\" \".join(map(str, row)))\n",
    "except ValueError as e:\n",
    "    print(e)\n"
   ]
  },
  {
   "cell_type": "markdown",
   "id": "0be8c96c-b567-40cc-b47d-abd65921fd07",
   "metadata": {},
   "source": [
    "### Falten Nested List "
   ]
  },
  {
   "cell_type": "markdown",
   "id": "4ebc7dc2-3624-4647-9f42-4855348ccfb5",
   "metadata": {},
   "source": [
    "45 ) Write a Python program to flatten a given nested list and convert it into a single-dimensional list.\n"
   ]
  },
  {
   "cell_type": "code",
   "execution_count": 1,
   "id": "6302b903-b3e9-4093-ba94-7405fee02003",
   "metadata": {},
   "outputs": [
    {
     "name": "stdin",
     "output_type": "stream",
     "text": [
      "Enter a nested list (e.g., [1, [2, 3], [4, [5, 6]]]):  [1, [2, 3] , [4, [5, 6]]]\n"
     ]
    },
    {
     "name": "stdout",
     "output_type": "stream",
     "text": [
      "The flattened list is:\n",
      "[1, 2, 3, 4, 5, 6]\n"
     ]
    }
   ],
   "source": [
    "# Function to flatten a nested list\n",
    "def flatten_list(nested_list):\n",
    "    flat_list = []\n",
    "    for item in nested_list:\n",
    "        if isinstance(item, list):\n",
    "            # Recursively flatten the sublist\n",
    "            flat_list.extend(flatten_list(item))\n",
    "        else:\n",
    "            # Add the non-list item to the flat list\n",
    "            flat_list.append(item)\n",
    "    return flat_list\n",
    "\n",
    "# Taking a nested list as input from the user\n",
    "# For simplicity, we assume the input is a string representing the nested list\n",
    "input_str = input(\"Enter a nested list (e.g., [1, [2, 3], [4, [5, 6]]]): \")\n",
    "nested_list = eval(input_str)\n",
    "\n",
    "# Flattening the nested list\n",
    "flat_list = flatten_list(nested_list)\n",
    "\n",
    "# Output the flattened list\n",
    "print(\"The flattened list is:\")\n",
    "print(flat_list)\n"
   ]
  },
  {
   "cell_type": "markdown",
   "id": "dfa89b0c-0e6d-48cc-8e43-098b3edf3732",
   "metadata": {},
   "source": [
    "### List Element Frequency "
   ]
  },
  {
   "cell_type": "markdown",
   "id": "018ad32b-6987-481d-a312-cb4c9a16f4fb",
   "metadata": {},
   "source": [
    "46 ) Given a nested list containing lists of integers, write a Python program to count the frequency of each element in the entire nested list."
   ]
  },
  {
   "cell_type": "code",
   "execution_count": 1,
   "id": "42cd779b-683e-49a4-909a-00bcfa24d97a",
   "metadata": {},
   "outputs": [
    {
     "name": "stdin",
     "output_type": "stream",
     "text": [
      "Enter a nested list (e.g., [1, [2, 3], [4, [2, 5]]]):  [1, [2, 3] , [4, [5, 6]]]\n"
     ]
    },
    {
     "name": "stdout",
     "output_type": "stream",
     "text": [
      "The frequency of each element is:\n",
      "Element 1: 1 times\n",
      "Element 2: 1 times\n",
      "Element 3: 1 times\n",
      "Element 4: 1 times\n",
      "Element 5: 1 times\n",
      "Element 6: 1 times\n"
     ]
    }
   ],
   "source": [
    "from collections import Counter\n",
    "\n",
    "# Function to flatten a nested list\n",
    "def flatten_list(nested_list):\n",
    "    flat_list = []\n",
    "    for item in nested_list:\n",
    "        if isinstance(item, list):\n",
    "            flat_list.extend(flatten_list(item))\n",
    "        else:\n",
    "            flat_list.append(item)\n",
    "    return flat_list\n",
    "\n",
    "# Function to count the frequency of each element\n",
    "def count_frequencies(flat_list):\n",
    "    return Counter(flat_list)\n",
    "\n",
    "# Taking a nested list as input from the user\n",
    "# For simplicity, we assume the input is a string representing the nested list\n",
    "input_str = input(\"Enter a nested list (e.g., [1, [2, 3], [4, [2, 5]]]): \")\n",
    "nested_list = eval(input_str)\n",
    "\n",
    "# Flattening the nested list\n",
    "flat_list = flatten_list(nested_list)\n",
    "\n",
    "# Counting the frequency of each element\n",
    "frequency_count = count_frequencies(flat_list)\n",
    "\n",
    "# Output the frequency count\n",
    "print(\"The frequency of each element is:\")\n",
    "for element, count in frequency_count.items():\n",
    "    print(f\"Element {element}: {count} times\")\n"
   ]
  },
  {
   "cell_type": "markdown",
   "id": "7860edb5-c05d-4bca-8d18-b6f107a51684",
   "metadata": {},
   "source": [
    "### Transpose Matrix"
   ]
  },
  {
   "cell_type": "markdown",
   "id": "4820a383-9237-4063-bb5f-251be1c2abc9",
   "metadata": {},
   "source": [
    "47 ) Write a Python program to transpose a given matrix represented as a nested list."
   ]
  },
  {
   "cell_type": "code",
   "execution_count": null,
   "id": "e1b46bc4-2f64-405e-a54d-730d57181ee9",
   "metadata": {},
   "outputs": [],
   "source": [
    "# Function to transpose a matrix\n",
    "def transpose_matrix(matrix):\n",
    "    # Using list comprehension to transpose the matrix\n",
    "    return [[matrix[j][i] for j in range(len(matrix))] for i in range(len(matrix[0]))]\n",
    "\n",
    "# Taking a matrix as input from the user\n",
    "# For simplicity, we assume the input is a string representing the matrix\n",
    "print(\"Enter the matrix row by row (use spaces to separate elements and enter an empty line to end):\")\n",
    "matrix = []\n",
    "while True:\n",
    "    row = input().strip()\n",
    "    if not row:\n",
    "        break\n",
    "    matrix.append([int(x) for x in row.split()])\n",
    "\n",
    "# Transposing the matrix\n",
    "transposed = transpose_matrix(matrix)\n",
    "\n",
    "# Output the transposed matrix\n",
    "print(\"The transposed matrix is:\")\n",
    "for row in transposed:\n",
    "    print(\" \".join(map(str, row)))\n"
   ]
  },
  {
   "cell_type": "markdown",
   "id": "b171f3cd-d579-47c9-93d6-226eccf88159",
   "metadata": {},
   "source": [
    "### List of list Concatenation "
   ]
  },
  {
   "cell_type": "markdown",
   "id": "7b7da560-bf82-4dc3-a8d2-691c991d6829",
   "metadata": {},
   "source": [
    "48 ) Given a list of nested lists, write a Python program to concatenate all the sublists into a single flat list."
   ]
  },
  {
   "cell_type": "code",
   "execution_count": null,
   "id": "4ead33b2-1c91-4343-b069-9fad1a908696",
   "metadata": {},
   "outputs": [],
   "source": [
    "# Function to concatenate all sublists into a single flat list\n",
    "def concatenate_sublists(nested_list):\n",
    "    flat_list = []\n",
    "    for sublist in nested_list:\n",
    "        flat_list.extend(sublist)\n",
    "    return flat_list\n",
    "\n",
    "# Taking a list of nested lists as input from the user\n",
    "# For simplicity, we assume the input is a string representing the list of nested lists\n",
    "input_str = input(\"Enter a list of nested lists (e.g., [[1, 2], [3, 4], [5]]): \")\n",
    "nested_list = eval(input_str)\n",
    "\n",
    "# Concatenating the sublists\n",
    "flat_list = concatenate_sublists(nested_list)\n",
    "\n",
    "# Output the flat list\n",
    "print(\"The concatenated flat list is:\")\n",
    "print(flat_list)\n"
   ]
  },
  {
   "cell_type": "code",
   "execution_count": null,
   "id": "297c66f2-d824-422c-b876-3edcc6096405",
   "metadata": {},
   "outputs": [],
   "source": []
  },
  {
   "cell_type": "code",
   "execution_count": null,
   "id": "1a42e81b-b111-4cd7-ad3c-b348ff946967",
   "metadata": {},
   "outputs": [],
   "source": []
  }
 ],
 "metadata": {
  "kernelspec": {
   "display_name": "Python 3 (ipykernel)",
   "language": "python",
   "name": "python3"
  },
  "language_info": {
   "codemirror_mode": {
    "name": "ipython",
    "version": 3
   },
   "file_extension": ".py",
   "mimetype": "text/x-python",
   "name": "python",
   "nbconvert_exporter": "python",
   "pygments_lexer": "ipython3",
   "version": "3.12.3"
  }
 },
 "nbformat": 4,
 "nbformat_minor": 5
}
